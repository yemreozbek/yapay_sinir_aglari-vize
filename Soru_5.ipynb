{
  "nbformat": 4,
  "nbformat_minor": 0,
  "metadata": {
    "colab": {
      "provenance": []
    },
    "kernelspec": {
      "name": "python3",
      "display_name": "Python 3"
    },
    "language_info": {
      "name": "python"
    },
    "gpuClass": "standard"
  },
  "cells": [
    {
      "cell_type": "code",
      "execution_count": 2,
      "metadata": {
        "id": "gNkC6ZvAiwIo"
      },
      "outputs": [],
      "source": [
        "import torch\n",
        "import torch.nn as nn\n",
        "from torch.utils.data import TensorDataset\n",
        "import pandas as pd\n",
        "import numpy as np\n",
        "from sklearn.preprocessing import StandardScaler"
      ]
    },
    {
      "cell_type": "code",
      "source": [
        "class MLP(nn.Module):\n",
        "  def __init__(self, infts, outfts):\n",
        "    super(MLP, self).__init__()\n",
        "    self.hiddenlayer1 = nn.Linear(infts, 50)\n",
        "    self.hiddenlayer2 = nn.Linear(50,100)\n",
        "    self.outlayer = nn.Linear(100,outfts)\n",
        "    self.relu = nn.ReLU()\n",
        "    self.sigmoid = nn.Sigmoid() \n",
        "\n",
        "  def forward(self, df):\n",
        "    x = self.relu(self.hiddenlayer1(df))\n",
        "    x = self.relu(self.hiddenlayer2(x))\n",
        "    x = self.outlayer(x)\n",
        "    x = self.sigmoid(x)\n",
        "\n",
        "    return x"
      ],
      "metadata": {
        "id": "zRb33Y1Ni3PC"
      },
      "execution_count": 3,
      "outputs": []
    },
    {
      "cell_type": "code",
      "source": [
        "df_test = pd.read_csv(\"/content/drive/MyDrive/yapay-sinir-aglari/cure_the_princess_test.csv\")\n",
        "df_train = pd.read_csv(\"/content/drive/MyDrive/yapay-sinir-aglari/cure_the_princess_train.csv\")\n",
        "df_validation = pd.read_csv(\"/content/drive/MyDrive/yapay-sinir-aglari/cure_the_princess_validation.csv\")"
      ],
      "metadata": {
        "id": "CFBIJr-EwTPy"
      },
      "execution_count": 4,
      "outputs": []
    },
    {
      "cell_type": "code",
      "source": [
        "y_train = df_train.iloc[:, -1:].values\n",
        "x_train = df_train.iloc[:, :-1].values\n",
        "x_train = torch.tensor(x_train, dtype=torch.float32)\n",
        "y_train = torch.tensor(y_train, dtype=torch.float32)"
      ],
      "metadata": {
        "id": "_TEqfKmayZbt"
      },
      "execution_count": 5,
      "outputs": []
    },
    {
      "cell_type": "code",
      "source": [
        "y_test = df_test.iloc[:, -1:].values\n",
        "x_test = df_test.iloc[:, :-1].values\n",
        "x_test = torch.tensor(x_test, dtype=torch.float32)\n",
        "y_test = torch.tensor(y_test, dtype=torch.float32)"
      ],
      "metadata": {
        "id": "QShN3f5a5ZdF"
      },
      "execution_count": 6,
      "outputs": []
    },
    {
      "cell_type": "code",
      "source": [
        "y_val = df_validation.iloc[:, -1:].values\n",
        "x_val = df_validation.iloc[:, :-1].values\n",
        "x_val = torch.tensor(x_test, dtype=torch.float32)\n",
        "y_val = torch.tensor(y_test, dtype=torch.float32)"
      ],
      "metadata": {
        "colab": {
          "base_uri": "https://localhost:8080/"
        },
        "id": "huzx_-n42ttC",
        "outputId": "eea7b7f2-3f90-4595-d2d0-9b5b1191f16d"
      },
      "execution_count": 7,
      "outputs": [
        {
          "output_type": "stream",
          "name": "stderr",
          "text": [
            "<ipython-input-7-4b1056553800>:3: UserWarning: To copy construct from a tensor, it is recommended to use sourceTensor.clone().detach() or sourceTensor.clone().detach().requires_grad_(True), rather than torch.tensor(sourceTensor).\n",
            "  x_val = torch.tensor(x_test, dtype=torch.float32)\n",
            "<ipython-input-7-4b1056553800>:4: UserWarning: To copy construct from a tensor, it is recommended to use sourceTensor.clone().detach() or sourceTensor.clone().detach().requires_grad_(True), rather than torch.tensor(sourceTensor).\n",
            "  y_val = torch.tensor(y_test, dtype=torch.float32)\n"
          ]
        }
      ]
    },
    {
      "cell_type": "code",
      "source": [
        "train_data = TensorDataset(x_train, y_train)\n",
        "train_loader = torch.utils.data.DataLoader(train_data, batch_size = 16, shuffle=True)"
      ],
      "metadata": {
        "id": "aZ-X3TuV_nvQ"
      },
      "execution_count": 8,
      "outputs": []
    },
    {
      "cell_type": "code",
      "source": [
        "val_data = TensorDataset(x_val, y_val)\n",
        "val_loader = torch.utils.data.DataLoader(val_data, batch_size = 16, shuffle=True)"
      ],
      "metadata": {
        "id": "bSC-2q9z2h3W"
      },
      "execution_count": 9,
      "outputs": []
    },
    {
      "cell_type": "code",
      "source": [
        "test_data = TensorDataset(x_test, y_test)\n",
        "test_loader = torch.utils.data.DataLoader(test_data, batch_size = 16, shuffle=True)"
      ],
      "metadata": {
        "id": "XVXmAQje2iIC"
      },
      "execution_count": 10,
      "outputs": []
    },
    {
      "cell_type": "code",
      "source": [
        "torch.manual_seed(190401066)\n",
        "model = MLP(13, 1)\n",
        "# Kayıp fonksiyonu ve optimizasyon fonksiyonu tanımlama\n",
        "criterion = nn.BCELoss()\n",
        "optimizer = torch.optim.SGD(model.parameters(), lr=0.001)\n",
        "\n",
        "# Modeli eğitme\n",
        "num_epochs = 25\n",
        "for epoch in range(num_epochs):\n",
        "    for i, (inputs, labels) in enumerate(train_loader):\n",
        "        \n",
        "        # Gradyanları sıfırlama\n",
        "        optimizer.zero_grad()\n",
        "\n",
        "        # Forward propagation\n",
        "        outputs = model(inputs)\n",
        "        # Loss hesaplama\n",
        "        loss = criterion(outputs, labels)\n",
        "\n",
        "        # Backward propagation\n",
        "        loss.backward()\n",
        "\n",
        "        # Parametrelerin güncellenmesi\n",
        "        optimizer.step()\n",
        "        # Her 100 adımda bir kayıp yazdırma\n",
        "        if (i+1) % 70 == 0:\n",
        "            print('Epoch [{}/{}], Step [{}/{}], Loss: {:.4f}'\n",
        "                  .format(epoch+1, num_epochs, i+1, len(x_train)//16, loss.item()))\n",
        "with torch.no_grad():\n",
        "    outputs = model(x_test)\n",
        "    predicted = torch.round(outputs)\n",
        "    accuracy = (predicted == y_test.view(-1, 1)).sum().item() / len(y_test)\n",
        "    print('Accuracy: {:.2f}%'.format(accuracy * 100))"
      ],
      "metadata": {
        "colab": {
          "base_uri": "https://localhost:8080/"
        },
        "id": "QaYAk7xxUFAI",
        "outputId": "18da5e98-b4cc-4788-e485-970b15a51ac6"
      },
      "execution_count": 11,
      "outputs": [
        {
          "output_type": "stream",
          "name": "stdout",
          "text": [
            "Epoch [1/25], Step [70/78], Loss: 0.6162\n",
            "Epoch [2/25], Step [70/78], Loss: 0.6282\n",
            "Epoch [3/25], Step [70/78], Loss: 0.4767\n",
            "Epoch [4/25], Step [70/78], Loss: 0.3171\n",
            "Epoch [5/25], Step [70/78], Loss: 0.4054\n",
            "Epoch [6/25], Step [70/78], Loss: 0.3960\n",
            "Epoch [7/25], Step [70/78], Loss: 0.4244\n",
            "Epoch [8/25], Step [70/78], Loss: 0.3823\n",
            "Epoch [9/25], Step [70/78], Loss: 0.4187\n",
            "Epoch [10/25], Step [70/78], Loss: 0.3360\n",
            "Epoch [11/25], Step [70/78], Loss: 0.4559\n",
            "Epoch [12/25], Step [70/78], Loss: 0.3768\n",
            "Epoch [13/25], Step [70/78], Loss: 0.2499\n",
            "Epoch [14/25], Step [70/78], Loss: 0.3354\n",
            "Epoch [15/25], Step [70/78], Loss: 0.2488\n",
            "Epoch [16/25], Step [70/78], Loss: 0.2368\n",
            "Epoch [17/25], Step [70/78], Loss: 0.1866\n",
            "Epoch [18/25], Step [70/78], Loss: 0.4071\n",
            "Epoch [19/25], Step [70/78], Loss: 0.2539\n",
            "Epoch [20/25], Step [70/78], Loss: 0.3031\n",
            "Epoch [21/25], Step [70/78], Loss: 0.3215\n",
            "Epoch [22/25], Step [70/78], Loss: 0.2934\n",
            "Epoch [23/25], Step [70/78], Loss: 0.5010\n",
            "Epoch [24/25], Step [70/78], Loss: 0.1458\n",
            "Epoch [25/25], Step [70/78], Loss: 0.2674\n",
            "Accuracy: 89.38%\n"
          ]
        }
      ]
    },
    {
      "cell_type": "code",
      "source": [
        "import seaborn as sns\n",
        "import matplotlib.pyplot as plt\n",
        "torch.manual_seed(190401066)\n",
        "\n",
        "learning_rate = 0.01\n",
        "num_epochs = 11\n",
        "patience = 5\n",
        "\n",
        "\n",
        "model = MLP(13,1)\n",
        "\n",
        "# Loss fonksiyonu ve optimizasyon algoritmasinin belirlenmesi.\n",
        "criterion = nn.BCELoss()\n",
        "optimizer = torch.optim.SGD(model.parameters(), lr=learning_rate)\n",
        "\n",
        "list_train_loss, list_val_loss = [], []\n",
        "\n",
        "best_val_loss = None\n",
        "\n",
        "patience_counter = 0\n",
        "# Model egitimi burada basliyor\n",
        "for epoch in range(num_epochs):\n",
        "\n",
        "    # egitim dongusu\n",
        "    train_loss = 0.0\n",
        "    train_count = 0.0\n",
        "    for inputs, labels in train_loader:\n",
        "\n",
        "\n",
        "        # zero the parameter gradients\n",
        "        optimizer.zero_grad()\n",
        "\n",
        "        # forward + backward + optimize\n",
        "        outputs = model(inputs)\n",
        "        \n",
        "        loss = criterion(outputs, labels)\n",
        "        loss.backward()\n",
        "        optimizer.step()\n",
        "\n",
        "        train_count += 1.0\n",
        "        train_loss += loss.item()\n",
        "        \n",
        "\n",
        "    val_loss = 0.0\n",
        "\n",
        "    with torch.no_grad():\n",
        "        model.eval()\n",
        "        for inputs, labels in val_loader:\n",
        "\n",
        "            outputs = model(inputs)\n",
        "\n",
        "            loss = criterion(outputs, labels)\n",
        "            val_loss += loss.item()\n",
        "\n",
        "\n",
        "    model.train()\n",
        "\n",
        "    # Losslari hesaplama\n",
        "    train_loss /= train_count\n",
        "    val_loss /= len(val_loader)\n",
        "\n",
        "    print(\"Epoch\", epoch, \"Training loss\", train_loss,\"Validation Loss :\",val_loss)\n",
        "\n",
        "    list_train_loss.append(train_loss)\n",
        "    list_val_loss.append(val_loss)\n",
        "\n",
        "    val_score = val_loss\n",
        "    if best_val_loss is None:\n",
        "        best_val_loss = val_score # hafızada patience boyu tutmaya başla\n",
        "        torch.save(model.state_dict(), \"checkpoint.pt\")\n",
        "    elif best_val_loss < val_score: # patience sayisi\n",
        "        patience_counter += 1\n",
        "        print(\"Earlystopping Patience Counter:\",patience_counter)\n",
        "        if patience_counter == patience:\n",
        "            break\n",
        "    else:\n",
        "        best_val_loss = val_score\n",
        "        torch.save(model.state_dict(), \"checkpoint.pt\") # en iyi modeli tutuyoruz\n",
        "        patience_counter = 0\n",
        "    \n",
        "\n",
        "# Gorsellestirme\n",
        "sns.set_style(\"ticks\")\n",
        "plt.plot(list_train_loss, label=\"Training loss\")\n",
        "plt.plot(list_val_loss, label=\"Validation loss\")\n",
        "plt.xlabel(\"Epoch\")\n",
        "plt.ylabel(\"Loss\")\n",
        "plt.legend()\n",
        "plt.show()\n"
      ],
      "metadata": {
        "colab": {
          "base_uri": "https://localhost:8080/",
          "height": 723
        },
        "id": "oxVAre-Bzr26",
        "outputId": "7c0b4935-5fd0-4dc8-fab4-9aa7cf256f85"
      },
      "execution_count": 21,
      "outputs": [
        {
          "output_type": "stream",
          "name": "stdout",
          "text": [
            "Epoch 0 Training loss 0.5803182692844656 Validation Loss : 0.4215915741360917\n",
            "Epoch 1 Training loss 0.35726776879422273 Validation Loss : 0.4046972108130552\n",
            "Epoch 2 Training loss 0.2926047251005716 Validation Loss : 0.2978262238356532\n",
            "Epoch 3 Training loss 0.27818276789746704 Validation Loss : 0.23863968313956746\n",
            "Epoch 4 Training loss 0.23850696599936183 Validation Loss : 0.5997791083491578\n",
            "Earlystopping Patience Counter: 1\n",
            "Epoch 5 Training loss 0.22360375462264953 Validation Loss : 0.2863079612048305\n",
            "Earlystopping Patience Counter: 2\n",
            "Epoch 6 Training loss 0.2111899770230432 Validation Loss : 0.2612270689284315\n",
            "Earlystopping Patience Counter: 3\n",
            "Epoch 7 Training loss 0.18481835373972036 Validation Loss : 0.19561340355751466\n",
            "Epoch 8 Training loss 0.17553172003524967 Validation Loss : 0.20690190332124428\n",
            "Earlystopping Patience Counter: 1\n",
            "Epoch 9 Training loss 0.16335681492250553 Validation Loss : 0.1634127575219894\n",
            "Epoch 10 Training loss 0.15835786405715008 Validation Loss : 0.16166788379528693\n"
          ]
        },
        {
          "output_type": "display_data",
          "data": {
            "text/plain": [
              "<Figure size 640x480 with 1 Axes>"
            ],
            "image/png": "[encoded data removed]"
          },
          "metadata": {}
        }
      ]
    },
    {
      "cell_type": "code",
      "source": [
        "from sklearn.metrics import f1_score,accuracy_score,classification_report\n",
        "from sklearn.metrics import confusion_matrix\n",
        "\n",
        "model = MLP(13,1)\n",
        "model.load_state_dict(torch.load('checkpoint.pt'))\n",
        "model.eval()\n",
        "\n",
        "predicts =[]\n",
        "true_labels = list()\n",
        "with torch.no_grad():\n",
        "    for inputs,label in test_loader:\n",
        "        outputs = model(inputs)\n",
        "        for out in outputs:\n",
        "            \n",
        "            predict = round(float(out.data))\n",
        "            predicts.append(predict)\n",
        "        true_labels.extend(label.tolist())\n",
        "\n",
        "print(\"Model genel basarisi: {:.2f}\".format(accuracy_score(true_labels, predicts)))\n",
        "\n",
        "values = [val[0] for val in true_labels]\n",
        "values = np.array(values, dtype=\"int32\")\n",
        "\n",
        "\n",
        "cm = confusion_matrix(values, predicts)\n",
        "print(\"---Confusion Matrix---\")\n",
        "print(cm)\n",
        "\n",
        "print(\"Precision score: {:.3f}\".format(359 / (25+359))) #TP / (FP + TP)\n",
        "print(\"Recall score: {:.3f}\".format(359 / (26+359))) # TP / (FN + TP)\n",
        "print(\"f1 score: {:.3f}\".format(2 * (((359 / (25+359)) * (359 / (26+359))) / ((359 / (25+359)) + (359 / (26+359))))))"
      ],
      "metadata": {
        "id": "vfoxoAQW5C8d",
        "colab": {
          "base_uri": "https://localhost:8080/"
        },
        "outputId": "7ba474b3-241b-4bae-cb7b-353ac46292ec"
      },
      "execution_count": 13,
      "outputs": [
        {
          "output_type": "stream",
          "name": "stdout",
          "text": [
            "Model genel basarisi: 0.94\n",
            "---Confusion Matrix---\n",
            "[[362  22]\n",
            " [ 25 363]]\n",
            "Precision score: 0.935\n",
            "Recall score: 0.932\n",
            "f1 score: 0.934\n"
          ]
        }
      ]
    }
  ]
}