{
  "nbformat": 4,
  "nbformat_minor": 0,
  "metadata": {
    "colab": {
      "provenance": []
    },
    "kernelspec": {
      "name": "python3",
      "display_name": "Python 3"
    },
    "language_info": {
      "name": "python"
    },
    "gpuClass": "standard"
  },
  "cells": [
    {
      "cell_type": "code",
      "source": [
        "import torch\n",
        "import torch.nn as nn"
      ],
      "metadata": {
        "id": "FeNnSpkcLGim"
      },
      "execution_count": 2,
      "outputs": []
    },
    {
      "cell_type": "code",
      "execution_count": 3,
      "metadata": {
        "id": "iqAV-08AIA1R"
      },
      "outputs": [],
      "source": [
        "def sigmoid_activation(x):\n",
        "\n",
        "  return 1 / (1 + torch.exp(-x))"
      ]
    },
    {
      "cell_type": "code",
      "source": [
        "def tanh_activation(x):\n",
        "\n",
        "  return (torch.exp(x) - torch.exp(-x)) / (torch.exp(x) + torch.exp(-x))"
      ],
      "metadata": {
        "id": "LdBYFGXWK-t3"
      },
      "execution_count": 4,
      "outputs": []
    },
    {
      "cell_type": "code",
      "source": [
        "x = [[1, 2, 3], [4, 5, 6]]\n",
        "x = torch.tensor(x, dtype=torch.float32)\n",
        "x.shape"
      ],
      "metadata": {
        "colab": {
          "base_uri": "https://localhost:8080/"
        },
        "id": "E-HYVEHuLg_C",
        "outputId": "8d147874-bf34-4f52-979e-2b7ed910c17e"
      },
      "execution_count": 7,
      "outputs": [
        {
          "output_type": "execute_result",
          "data": {
            "text/plain": [
              "torch.Size([2, 3])"
            ]
          },
          "metadata": {},
          "execution_count": 7
        }
      ]
    },
    {
      "cell_type": "code",
      "source": [
        "torch.manual_seed(1)"
      ],
      "metadata": {
        "colab": {
          "base_uri": "https://localhost:8080/"
        },
        "id": "-hkLwtV_LyMO",
        "outputId": "664c99c0-f746-445b-8816-3d2bd3623b52"
      },
      "execution_count": 8,
      "outputs": [
        {
          "output_type": "execute_result",
          "data": {
            "text/plain": [
              "<torch._C.Generator at 0x7f53547cc650>"
            ]
          },
          "metadata": {},
          "execution_count": 8
        }
      ]
    },
    {
      "cell_type": "code",
      "source": [
        "x = [[1, 2, 3], [4, 5, 6]]\n",
        "x = torch.tensor(x, dtype=torch.float32) #Float32 olarak tanımladık çünkü matris veri tipi tek olması için.\n",
        "\n",
        "torch.manual_seed(1)\n",
        "\n",
        "hidden_layer = nn.Linear(3, 50) # öznitelik sayısını in_fts parametresini verdik.\n",
        "hidden_act = tanh_activation(hidden_layer(x))\n",
        "\n",
        "out_layer = nn.Linear(50,1) # istenilen çıkış nöron sayısı 1 olduğu için 50,1 olarak ayarlandı.\n",
        "out = sigmoid_activation(out_layer(hidden_act))\n",
        "\n",
        "print(out)"
      ],
      "metadata": {
        "colab": {
          "base_uri": "https://localhost:8080/"
        },
        "id": "zy6UliiTTTWL",
        "outputId": "1b6e349d-e772-4484-838c-d55ace5b3c67"
      },
      "execution_count": 6,
      "outputs": [
        {
          "output_type": "stream",
          "name": "stdout",
          "text": [
            "tensor([[0.4892],\n",
            "        [0.5566]], grad_fn=<MulBackward0>)\n"
          ]
        }
      ]
    },
    {
      "cell_type": "code",
      "source": [
        "x = [[1, 2, 3], [4, 5, 6]]\n",
        "x = torch.tensor(x, dtype=torch.float32) #Float32 olarak tanımladık çünkü matris veri tipi tek olması için.\n",
        "\n",
        "torch.manual_seed(190401066)\n",
        "\n",
        "hidden_layer = nn.Linear(3, 50) # öznitelik sayısını in_fts parametresini verdik.\n",
        "hidden_act = tanh_activation(hidden_layer(x))\n",
        "\n",
        "out_layer = nn.Linear(50,1) # istenilen çıkış nöron sayısı 1 olduğu için 50,1 olarak ayarlandı.\n",
        "out = sigmoid_activation(out_layer(hidden_act))\n",
        "\n",
        "print(out)"
      ],
      "metadata": {
        "colab": {
          "base_uri": "https://localhost:8080/"
        },
        "id": "PGnB8VJMPiee",
        "outputId": "ec99d7ae-b08c-4062-a8fe-a677eb94e2af"
      },
      "execution_count": 5,
      "outputs": [
        {
          "output_type": "stream",
          "name": "stdout",
          "text": [
            "tensor([[0.5963],\n",
            "        [0.5942]], grad_fn=<MulBackward0>)\n"
          ]
        }
      ]
    },
    {
      "cell_type": "code",
      "source": [],
      "metadata": {
        "id": "pQ_4exapSvQg"
      },
      "execution_count": null,
      "outputs": []
    }
  ]
}